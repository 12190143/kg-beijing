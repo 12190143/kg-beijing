{
 "cells": [
  {
   "cell_type": "markdown",
   "metadata": {},
   "source": [
    "# Assignment\n",
    "\n",
    "## 问题 1\n",
    "\n",
    "- 综合分词工具和正则表达式提取邮件签名档\n",
    "\n",
    "- 下面有几个来自真实邮件的签名档，请尽可能提取下面的关键字段\n",
    "    - 姓名\n",
    "    - 单位\n",
    "    - 电话号码\n",
    "    - 电子邮件\n",
    "- 数据如下\n",
    "\n",
    "> 刘三 Liu, San  \n",
    "+86 15912348765  \n",
    "sfghsdfg@abc.org.cn    \n",
    "\\--------------------------   \n",
    "> 李四  \n",
    "北清大数据产业联合会   \n",
    "电话：010-34355675  \n",
    "邮箱：lisi@beiqingdata.com  \n",
    "地址：北京市海淀区北清大学东楼201室    \n",
    "\\--------------------------  \n",
    "> John Smith  \n",
    "Data and Web Science Group  \n",
    "University of Mannheim, Germany    \n",
    "http://dws.informatik.uni-mannheim.de/~johnsmith  \n",
    "Tel: +49 621 123 4567  \n",
    "\\--------------------------  \n",
    "> 王五  \n",
    "CSDN-全球最大中文IT技术社区（www.csdn.net）  \n",
    "电话:010-51661202-257  \n",
    "手机:13934567890  \n",
    "E-mail:gdagsdfs@csdn.net  \n",
    "QQ、微信：34534563  \n",
    "地址：北京市朝阳区广顺北大街33号院一号楼福码大厦B座12层  \n",
    "\\--------------------------  \n",
    "> 张三  \n",
    "北京市张三律师事务所|Beijing Zhangsan Law Firm  \n",
    "北京市海淀区中关村有条街1号，邮编：100080  \n",
    "No. 1 Youtiao Street , ZhongGuanCun West, Haidian District, Beijing 100080  \n",
    "Mobile: 15023345465|Email: dfgasedt@126.com  \n",
    "\n",
    "\n",
    "\n",
    "## 思路\n",
    "- 区分汉语, 英语\n",
    "- 用分词工具提取姓名\n",
    "- 用正则提取电话, 邮箱等通讯方式\n",
    "- 难点: 单位如何正确提取? \n",
    "\n",
    "## 问题\n",
    "- 因为数据量比较小, 可以针对特殊形式加条件, 那么如何才能找出更一般的提取办法, 使得能够应对更大的数据量."
   ]
  },
  {
   "cell_type": "code",
   "execution_count": 1,
   "metadata": {
    "collapsed": true
   },
   "outputs": [],
   "source": [
    "# -*- coding: utf-8 -*-\n",
    "import os\n",
    "import re\n",
    "import jieba\n",
    "import jieba.posseg as pseg\n",
    "import pynlpir\n",
    "from nltk.tag import StanfordNERTagger"
   ]
  },
  {
   "cell_type": "code",
   "execution_count": 2,
   "metadata": {
    "collapsed": true
   },
   "outputs": [],
   "source": [
    "os.environ[\"CLASSPATH\"] = \"/Users/xpgeng/Library/stanford-ner-2015-12-09\"\n",
    "os.environ[\"STANFORD_MODELS\"] = \"/Users/xpgeng/Library/stanford-ner-2015-12-09/models\""
   ]
  },
  {
   "cell_type": "code",
   "execution_count": 3,
   "metadata": {
    "collapsed": false
   },
   "outputs": [
    {
     "name": "stderr",
     "output_type": "stream",
     "text": [
      "Building prefix dict from the default dictionary ...\n",
      "Loading model from cache /var/folders/8n/zjbv19sd0xg400w9dpmzvsd40000gn/T/jieba.cache\n",
      "Loading model cost 0.436 seconds.\n",
      "Prefix dict has been built succesfully.\n"
     ]
    }
   ],
   "source": [
    "jieba.load_userdict('user_dict.txt')"
   ]
  },
  {
   "cell_type": "code",
   "execution_count": 4,
   "metadata": {
    "collapsed": false
   },
   "outputs": [],
   "source": [
    "with open('data.txt', 'r') as f:\n",
    "    data = f.read()"
   ]
  },
  {
   "cell_type": "code",
   "execution_count": 5,
   "metadata": {
    "collapsed": false
   },
   "outputs": [],
   "source": [
    "p = re.compile(r'-{2,}')\n",
    "signature_list = p.split(data)"
   ]
  },
  {
   "cell_type": "code",
   "execution_count": 6,
   "metadata": {
    "collapsed": true
   },
   "outputs": [],
   "source": [
    "st = StanfordNERTagger('english.all.3class.distsim.crf.ser.gz')"
   ]
  },
  {
   "cell_type": "code",
   "execution_count": 7,
   "metadata": {
    "collapsed": false
   },
   "outputs": [],
   "source": [
    "def judge_lang(words):\n",
    "    word_list = filter(None, re.split(r',|\\s+', words))\n",
    "    for word in word_list:\n",
    "        if not word.isalpha():\n",
    "            return \"Chinese\"\n",
    "        else:\n",
    "            return \"English\""
   ]
  },
  {
   "cell_type": "code",
   "execution_count": 115,
   "metadata": {
    "collapsed": false
   },
   "outputs": [],
   "source": [
    "def extract_information(signature, language, st):\n",
    "    words_list = re.split(r'\\n|\\|', signature)\n",
    "    orgnization_list = []\n",
    "    tel_list = []\n",
    "    email_list = []\n",
    "    name_list = []\n",
    "    \n",
    "    p_email = re.compile(r'\\w+@(\\w+\\.)+(\\w+)')\n",
    "    p_tel = re.compile(r'''(\\+([\\d|\\s]+)) # +86 132 2345 2345\n",
    "                   | (电话.+([\\d|\\s|\\-]+))\n",
    "                   | (Tel.+([\\d|\\s|\\-]+))\n",
    "                   | (手机.+([\\d|\\s|\\-]+))\n",
    "                   | Mobile.+([\\d|\\s|\\-]+)''', re.VERBOSE)\n",
    "    \n",
    "    for item in words_list:\n",
    "        if p_tel.search(item):\n",
    "            tel_group = p_tel.search(item).group()\n",
    "            tel_list.append(tel_group)\n",
    "        elif p_email.search(item):\n",
    "            m = p_email.search(item).group()\n",
    "            email_list.append(m)\n",
    "        elif language == \"Chinese\":\n",
    "            words = pseg.cut(item)\n",
    "            flag_list = [flag for word, flag in words]\n",
    "            if 'nt' in flag_list:\n",
    "                orgnization_list.append(item)\n",
    "            elif 'nr'in flag_list:\n",
    "                name_list.append(item)\n",
    "        elif language == \"English\":\n",
    "            flag_list = [flag for word, flag in st.tag(item.split())]\n",
    "            if 'ORGANIZATION' in flag_list:\n",
    "                orgnization_list.append(item)\n",
    "            elif 'PERSON' in flag_list:\n",
    "                name_list.append(item)\n",
    "        else:\n",
    "            return \"nothing to extract!\"\n",
    "    \n",
    "    information_dict = {\"name\": list(set(name_list)), \"tel\": tel_list, \n",
    "                        \"email\": email_list, \"orgnization\": orgnization_list}\n",
    "    return information_dict         "
   ]
  },
  {
   "cell_type": "code",
   "execution_count": 133,
   "metadata": {
    "collapsed": false,
    "scrolled": true
   },
   "outputs": [
    {
     "name": "stdout",
     "output_type": "stream",
     "text": [
      "姓名: 刘三 Liu, San\n",
      "+86 15912348765\n",
      "Email: ['sfghsdfg@abc.org.cn']\n",
      "-------\n",
      "姓名: 李四\n",
      "单位: 北清大数据产业联合会\n",
      "电话：010-34355675\n",
      "Email: ['lisi@beiqingdata.com']\n",
      "-------\n",
      "姓名: John Smith\n",
      "单位: Data and Web Science Group\n",
      "单位: University of Mannheim, Germany\n",
      "Tel: +49 621 123 4567\n",
      "Email: []\n",
      "-------\n",
      "姓名: 王五\n",
      "单位: CSDN-全球最大中文IT技术社区（www.csdn.net）\n",
      "电话:010-51661202-257\n",
      "手机:13934567890\n",
      "Email: ['gdagsdfs@csdn.net']\n",
      "-------\n",
      "姓名: 张三\n",
      "单位: 北京市张三律师事务所\n",
      "Mobile: 15023345465\n",
      "Email: ['dfgasedt@126.com']\n",
      "-------\n"
     ]
    }
   ],
   "source": [
    "for signature in signature_list:\n",
    "    info_dict = extract_information(signature, judge_lang(signature), st)\n",
    "    print '姓名: {name}'.format(name=info_dict['name'][0])\n",
    "    for item in info_dict['orgnization']:\n",
    "        print \"单位: %s\" % item\n",
    "    for item in info_dict['tel']:\n",
    "        print item\n",
    "    print \"Email: %s\" % info_dict['email']\n",
    "    print '-'*7"
   ]
  },
  {
   "cell_type": "code",
   "execution_count": null,
   "metadata": {
    "collapsed": true
   },
   "outputs": [],
   "source": []
  }
 ],
 "metadata": {
  "kernelspec": {
   "display_name": "Python 2",
   "language": "python",
   "name": "python2"
  },
  "language_info": {
   "codemirror_mode": {
    "name": "ipython",
    "version": 2
   },
   "file_extension": ".py",
   "mimetype": "text/x-python",
   "name": "python",
   "nbconvert_exporter": "python",
   "pygments_lexer": "ipython2",
   "version": "2.7.11"
  }
 },
 "nbformat": 4,
 "nbformat_minor": 0
}
