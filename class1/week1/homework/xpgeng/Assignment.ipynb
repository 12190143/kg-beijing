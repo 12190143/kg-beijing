{
 "cells": [
  {
   "cell_type": "markdown",
   "metadata": {},
   "source": [
    "# Assignment\n",
    "\n",
    "## 问题 1\n",
    "\n",
    "- 综合分词工具和正则表达式提取邮件签名档\n",
    "\n",
    "- 下面有几个来自真实邮件的签名档，请尽可能提取下面的关键字段\n",
    "    - 姓名\n",
    "    - 单位\n",
    "    - 电话号码\n",
    "    - 电子邮件\n",
    "- 数据如下\n",
    "\n",
    "> 刘三 Liu, San  \n",
    "+86 15912348765  \n",
    "sfghsdfg@abc.org.cn    \n",
    "\\--------------------------   \n",
    "> 李四  \n",
    "北清大数据产业联合会   \n",
    "电话：010-34355675  \n",
    "邮箱：lisi@beiqingdata.com  \n",
    "地址：北京市海淀区北清大学东楼201室    \n",
    "\\--------------------------  \n",
    "> John Smith  \n",
    "Data and Web Science Group  \n",
    "University of Mannheim, Germany    \n",
    "http://dws.informatik.uni-mannheim.de/~johnsmith  \n",
    "Tel: +49 621 123 4567  \n",
    "\\--------------------------  \n",
    "> 王五  \n",
    "CSDN-全球最大中文IT技术社区（www.csdn.net）  \n",
    "电话:010-51661202-257  \n",
    "手机:13934567890  \n",
    "E-mail:gdagsdfs@csdn.net  \n",
    "QQ、微信：34534563  \n",
    "地址：北京市朝阳区广顺北大街33号院一号楼福码大厦B座12层  \n",
    "\\--------------------------  \n",
    "> 张三  \n",
    "北京市张三律师事务所|Beijing Zhangsan Law Firm  \n",
    "北京市海淀区中关村有条街1号，邮编：100080  \n",
    "No. 1 Youtiao Street , ZhongGuanCun West, Haidian District, Beijing 100080  \n",
    "Mobile: 15023345465|Email: dfgasedt@126.com  \n",
    "\n",
    "\n",
    "\n",
    "## 思路\n",
    "- 区分汉语, 英语\n",
    "- 用分词工具提取姓名\n",
    "- 用正则提取电话, 邮箱等通讯方式\n",
    "- 难点: 单位如何正确提取? \n",
    "\n",
    "## 问题\n",
    "- 因为数据量比较小, 可以针对特殊形式加条件, 那么如何才能找出更一般的提取办法, 使得能够应对更大的数据量."
   ]
  },
  {
   "cell_type": "code",
   "execution_count": 1,
   "metadata": {
    "collapsed": true
   },
   "outputs": [],
   "source": [
    "# -*- coding: utf-8 -*-\n",
    "import os\n",
    "import re\n",
    "import jieba\n",
    "import jieba.posseg as pseg\n",
    "import pynlpir\n",
    "from nltk.tag import StanfordNERTagger"
   ]
  },
  {
   "cell_type": "code",
   "execution_count": 2,
   "metadata": {
    "collapsed": true
   },
   "outputs": [],
   "source": [
    "os.environ[\"CLASSPATH\"] = \"/Users/xpgeng/Library/stanford-ner-2015-12-09\"\n",
    "os.environ[\"STANFORD_MODELS\"] = \"/Users/xpgeng/Library/stanford-ner-2015-12-09/models\""
   ]
  },
  {
   "cell_type": "code",
   "execution_count": 3,
   "metadata": {
    "collapsed": false
   },
   "outputs": [
    {
     "name": "stderr",
     "output_type": "stream",
     "text": [
      "Building prefix dict from the default dictionary ...\n",
      "Loading model from cache /var/folders/8n/zjbv19sd0xg400w9dpmzvsd40000gn/T/jieba.cache\n",
      "Loading model cost 0.436 seconds.\n",
      "Prefix dict has been built succesfully.\n"
     ]
    }
   ],
   "source": [
    "jieba.load_userdict('user_dict.txt')"
   ]
  },
  {
   "cell_type": "code",
   "execution_count": 4,
   "metadata": {
    "collapsed": false
   },
   "outputs": [],
   "source": [
    "with open('data.txt', 'r') as f:\n",
    "    data = f.read()"
   ]
  },
  {
   "cell_type": "code",
   "execution_count": 5,
   "metadata": {
    "collapsed": false
   },
   "outputs": [],
   "source": [
    "p = re.compile(r'-{2,}')\n",
    "signature_list = p.split(data)"
   ]
  },
  {
   "cell_type": "code",
   "execution_count": 90,
   "metadata": {
    "collapsed": false
   },
   "outputs": [
    {
     "data": {
      "text/plain": [
       "['',\n",
       " '\\xe5\\xbc\\xa0\\xe4\\xb8\\x89',\n",
       " '\\xe5\\x8c\\x97\\xe4\\xba\\xac\\xe5\\xb8\\x82\\xe5\\xbc\\xa0\\xe4\\xb8\\x89\\xe5\\xbe\\x8b\\xe5\\xb8\\x88\\xe4\\xba\\x8b\\xe5\\x8a\\xa1\\xe6\\x89\\x80',\n",
       " 'Beijing Zhangsan Law Firm',\n",
       " '\\xe5\\x8c\\x97\\xe4\\xba\\xac\\xe5\\xb8\\x82\\xe6\\xb5\\xb7\\xe6\\xb7\\x80\\xe5\\x8c\\xba\\xe4\\xb8\\xad\\xe5\\x85\\xb3\\xe6\\x9d\\x91\\xe6\\x9c\\x89\\xe6\\x9d\\xa1\\xe8\\xa1\\x971\\xe5\\x8f\\xb7\\xef\\xbc\\x8c\\xe9\\x82\\xae\\xe7\\xbc\\x96\\xef\\xbc\\x9a100080',\n",
       " 'No. 1 Youtiao Street , ZhongGuanCun West, Haidian District, Beijing 100080',\n",
       " 'Mobile: 15023345465',\n",
       " 'Email: dfgasedt@126.com',\n",
       " '']"
      ]
     },
     "execution_count": 90,
     "metadata": {},
     "output_type": "execute_result"
    }
   ],
   "source": [
    "re.split(r'\\n|\\|', signature_list[4])"
   ]
  },
  {
   "cell_type": "code",
   "execution_count": 109,
   "metadata": {
    "collapsed": false
   },
   "outputs": [
    {
     "name": "stdout",
     "output_type": "stream",
     "text": [
      "电话:010-51661202-257\n",
      "手机:13934567890\n"
     ]
    }
   ],
   "source": [
    "#p_tel = re.compile(r'''(([电话|Tel|手机|Mobile].)?(\\+?[\\d|\\s|\\-]+$))''')\n",
    "\n",
    "p_tel = re.compile(r'''(\\+([\\d|\\s]+)) # +86 132 2345 2345\n",
    "                   | (电话.+([\\d|\\s|\\-]+))\n",
    "                   | (Tel.+([\\d|\\s|\\-]+))\n",
    "                   | (手机.+([\\d|\\s|\\-]+))\n",
    "                   | Mobile.+([\\d|\\s|\\-]+)''', re.VERBOSE)\n",
    "\n",
    "for item in re.split(r'\\n|\\|', signature_list[3]):\n",
    "    if p_tel.search(item):\n",
    "        m = p_tel.search(item)\n",
    "        print m.group()"
   ]
  },
  {
   "cell_type": "code",
   "execution_count": 6,
   "metadata": {
    "collapsed": true
   },
   "outputs": [],
   "source": [
    "st = StanfordNERTagger('english.all.3class.distsim.crf.ser.gz')"
   ]
  },
  {
   "cell_type": "code",
   "execution_count": 7,
   "metadata": {
    "collapsed": false
   },
   "outputs": [],
   "source": [
    "def judge_lang(words):\n",
    "    word_list = filter(None, re.split(r',|\\s+', words))\n",
    "    for word in word_list:\n",
    "        if not word.isalpha():\n",
    "            return \"Chinese\"\n",
    "        else:\n",
    "            return \"English\""
   ]
  },
  {
   "cell_type": "code",
   "execution_count": 8,
   "metadata": {
    "collapsed": true
   },
   "outputs": [],
   "source": [
    "def extract_email(words_list):\n",
    "    p = re.compile(r'\\w+@(\\w+.)+')\n",
    "    email_list = []\n",
    "    for item in words_list:\n",
    "        if p.match(item):\n",
    "            email_list.append(item)\n",
    "    return email_list\n",
    "        "
   ]
  },
  {
   "cell_type": "code",
   "execution_count": 9,
   "metadata": {
    "collapsed": true
   },
   "outputs": [],
   "source": [
    "def extract_tel(words_list):\n",
    "    p = re.compile(r'''(\\+86[\\d|\\s]+) # +86 132 2345 2345\n",
    "                   | (电话.+)\n",
    "                   | (Tel.+)\n",
    "                   | (手机.+)\n",
    "                   | (Mobile.+)''', re.VERBOSE)\n",
    "    tel_list = []\n",
    "    for item in words_list:\n",
    "        if p.match(item):\n",
    "            tel_list.append(item)\n",
    "    return tel_list"
   ]
  },
  {
   "cell_type": "code",
   "execution_count": 10,
   "metadata": {
    "collapsed": true
   },
   "outputs": [],
   "source": [
    "def extract_org(words_list):\n",
    "    orgnization_list = []\n",
    "    for item in words_list: \n",
    "        words = pseg.cut(item)\n",
    "        for word, flag in words:\n",
    "            if flag == 'nt':\n",
    "                orgnization_list.append(item)\n",
    "    return orgnization_list"
   ]
  },
  {
   "cell_type": "code",
   "execution_count": 110,
   "metadata": {
    "collapsed": false
   },
   "outputs": [],
   "source": [
    "def extract_information(signature, language, st):\n",
    "    words_list = re.split(r'\\n|\\|', signature)\n",
    "    orgnization_list = []\n",
    "    tel_list = []\n",
    "    email_list = []\n",
    "    name_list = []\n",
    "    \n",
    "    p_email = re.compile(r'\\w+@(\\w+\\.)+(\\w+)')\n",
    "    p_tel = re.compile(r'''(\\+([\\d|\\s]+)) # +86 132 2345 2345\n",
    "                   | (电话.+([\\d|\\s|\\-]+))\n",
    "                   | (Tel.+([\\d|\\s|\\-]+))\n",
    "                   | (手机.+([\\d|\\s|\\-]+))\n",
    "                   | Mobile.+([\\d|\\s|\\-]+)''', re.VERBOSE)\n",
    "    \n",
    "    for item in words_list:\n",
    "        if p_tel.search(item):\n",
    "            tel_group = p_tel.search(item).group()\n",
    "            tel_list.append(tel_group)\n",
    "        elif p_email.search(item):\n",
    "            m = p_email.search(item).group()\n",
    "            email_list.append(m)\n",
    "        elif language == \"Chinese\":\n",
    "            words = pseg.cut(item)\n",
    "            flag_list = [flag for word, flag in words]\n",
    "            if 'nt' in flag_list:\n",
    "                orgnization_list.append(item)\n",
    "            elif 'nr'in flag_list:\n",
    "                name_list.append(item)\n",
    "        elif language == \"English\":\n",
    "            flag_list = [flag for word, flag in st.tag(item.split())]\n",
    "            if 'ORGANIZATION' in flag_list:\n",
    "                orgnization_list.append(item)\n",
    "            elif 'PERSON' in flag_list:\n",
    "                name_list.append(item)\n",
    "        else:\n",
    "            return \"nothing to extract!\"\n",
    "    \n",
    "    information_dict = {\"name\": set(name_list), \"tel\": tel_list, \n",
    "                        \"email\": email_list, \"orgnization\": orgnization_list}\n",
    "    return information_dict         "
   ]
  },
  {
   "cell_type": "code",
   "execution_count": 62,
   "metadata": {
    "collapsed": false,
    "scrolled": true
   },
   "outputs": [
    {
     "name": "stdout",
     "output_type": "stream",
     "text": [
      "{'orgnization': [], 'tel': ['+86 15912348765'], 'name': set(['\\xe5\\x88\\x98\\xe4\\xb8\\x89 Liu, San']), 'email': ['sfghsdfg@abc.org.cn']}\n",
      "{'orgnization': ['\\xe5\\x8c\\x97\\xe6\\xb8\\x85\\xe5\\xa4\\xa7\\xe6\\x95\\xb0\\xe6\\x8d\\xae\\xe4\\xba\\xa7\\xe4\\xb8\\x9a\\xe8\\x81\\x94\\xe5\\x90\\x88\\xe4\\xbc\\x9a'], 'tel': ['\\xe7\\x94\\xb5\\xe8\\xaf\\x9d\\xef\\xbc\\x9a010-34355675'], 'name': set(['\\xe6\\x9d\\x8e\\xe5\\x9b\\x9b']), 'email': ['lisi@beiqingdata.com']}\n",
      "{'orgnization': ['Data and Web Science Group', 'University of Mannheim, Germany'], 'tel': ['Tel: +49 621 123 4567'], 'name': set(['John Smith']), 'email': []}\n",
      "{'orgnization': ['CSDN-\\xe5\\x85\\xa8\\xe7\\x90\\x83\\xe6\\x9c\\x80\\xe5\\xa4\\xa7\\xe4\\xb8\\xad\\xe6\\x96\\x87IT\\xe6\\x8a\\x80\\xe6\\x9c\\xaf\\xe7\\xa4\\xbe\\xe5\\x8c\\xba\\xef\\xbc\\x88www.csdn.net\\xef\\xbc\\x89'], 'tel': ['\\xe7\\x94\\xb5\\xe8\\xaf\\x9d:010-51661202-257', '\\xe6\\x89\\x8b\\xe6\\x9c\\xba:13934567890'], 'name': set(['\\xe7\\x8e\\x8b\\xe4\\xba\\x94']), 'email': ['gdagsdfs@csdn.net']}\n",
      "{'orgnization': ['\\xe5\\x8c\\x97\\xe4\\xba\\xac\\xe5\\xb8\\x82\\xe5\\xbc\\xa0\\xe4\\xb8\\x89\\xe5\\xbe\\x8b\\xe5\\xb8\\x88\\xe4\\xba\\x8b\\xe5\\x8a\\xa1\\xe6\\x89\\x80'], 'tel': ['Mobile: 15023345465'], 'name': set(['\\xe5\\xbc\\xa0\\xe4\\xb8\\x89']), 'email': ['dfgasedt@126.com']}\n"
     ]
    }
   ],
   "source": [
    "for signature in signature_list:\n",
    "    print extract_information(signature, judge_lang(signature), st)"
   ]
  },
  {
   "cell_type": "code",
   "execution_count": null,
   "metadata": {
    "collapsed": true
   },
   "outputs": [],
   "source": []
  }
 ],
 "metadata": {
  "kernelspec": {
   "display_name": "Python 2",
   "language": "python",
   "name": "python2"
  },
  "language_info": {
   "codemirror_mode": {
    "name": "ipython",
    "version": 2
   },
   "file_extension": ".py",
   "mimetype": "text/x-python",
   "name": "python",
   "nbconvert_exporter": "python",
   "pygments_lexer": "ipython2",
   "version": "2.7.11"
  }
 },
 "nbformat": 4,
 "nbformat_minor": 0
}
